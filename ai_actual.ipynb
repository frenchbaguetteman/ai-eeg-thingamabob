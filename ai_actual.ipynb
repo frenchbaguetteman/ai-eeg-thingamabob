{
 "cells": [
  {
   "cell_type": "code",
   "execution_count": 1,
   "metadata": {},
   "outputs": [
    {
     "name": "stderr",
     "output_type": "stream",
     "text": [
      "C:\\Users\\Streamer\\AppData\\Local\\Packages\\PythonSoftwareFoundation.Python.3.11_qbz5n2kfra8p0\\LocalCache\\local-packages\\Python311\\site-packages\\tqdm\\auto.py:21: TqdmWarning: IProgress not found. Please update jupyter and ipywidgets. See https://ipywidgets.readthedocs.io/en/stable/user_install.html\n",
      "  from .autonotebook import tqdm as notebook_tqdm\n"
     ]
    }
   ],
   "source": [
    "import tensorflow as tf\n",
    "import numpy as np\n",
    "import matplotlib.pyplot as plt\n",
    "import os\n",
    "import transforms as t\n",
    "import pathlib\n",
    "import pandas as pd\n",
    "import tensorflow_datasets as tfds\n"
   ]
  },
  {
   "cell_type": "code",
   "execution_count": 2,
   "metadata": {},
   "outputs": [
    {
     "name": "stdout",
     "output_type": "stream",
     "text": [
      "['focus' 'neutral']\n"
     ]
    }
   ],
   "source": [
    "dir = \"data\"\n",
    "data_dir = pathlib.Path(dir)\n",
    "thoughts = np.array(tf.io.gfile.listdir(str(data_dir)))\n",
    "print(thoughts)"
   ]
  },
  {
   "cell_type": "code",
   "execution_count": 3,
   "metadata": {},
   "outputs": [
    {
     "name": "stdout",
     "output_type": "stream",
     "text": [
      "Found 10 files belonging to 2 classes.\n",
      "Using 8 files for training.\n",
      "Using 2 files for validation.\n"
     ]
    }
   ],
   "source": [
    "raw_train_ds, raw_val_ds = tf.keras.utils.text_dataset_from_directory(\n",
    "    data_dir,\n",
    "    batch_size=1,\n",
    "    validation_split=0.2,\n",
    "    subset='both',\n",
    "    seed=42)\n"
   ]
  },
  {
   "cell_type": "code",
   "execution_count": 4,
   "metadata": {},
   "outputs": [
    {
     "name": "stdout",
     "output_type": "stream",
     "text": [
      "([\"2.385099999999999909e+02\\r\\n-1.983357415896185083e+00\\r\\n-1.798144930521258678e+00\\r\\n6.974334877542283095e-01\\r\\n-9.179636091071505799e-01\\r\\n1.050231357483099037e+00\\r\\n2.500241800847903040e+00\\r\\n9.933421015377282615e+00\\r\\n1.803112734208639267e+01\\r\\n7.204997421946549707e+01\\r\\n-4.162912396037275187e+01\\r\\n-1.504205945728789118e+01\\r\\n-8.447959501580168507e+00\\r\\n-6.622383764188193744e+00\\r\\n-3.404983772468754388e+00\\r\\n-2.218887958633203539e+00\\r\\n4.361962619152988552e+00\\r\\n2.073340661762296477e+00\\r\\n2.286680397940607623e+00\\r\\n5.891322957606782929e+00\\r\\n4.206296367962391258e+00\\r\\n4.673450772995152214e+00\\r\\n3.375681989181636311e+00\\r\\n5.005894840844277383e+00\\r\\n4.786391453885884495e+00\\r\\n6.769999999999996021e+00\\r\\n3.692016850632078295e+00\\r\\n1.427026031989855781e+00\\r\\n-4.100519457382397803e+01\\r\\n8.872448254497498965e+00\\r\\n5.999123960372754638e+00\\r\\n4.986837304514547320e+00\\r\\n5.128179482752406315e+00\\r\\n5.220849719038689329e+00\\r\\n1.122593635214265895e+01\\r\\n-5.451920572203839299e+00\\r\\n-1.782400181899580716e+00\\r\\n-4.528975844458487110e+00\\r\\n4.098262434325511627e+00\\r\\n1.849400677364634760e+00\\r\\n1.813703632037611868e+00\\r\\n1.044884565363105366e+00\\r\\n9.578859869175122554e-01\\r\\n2.560356756034298797e-01\\r\\n5.416414584309901414e+00\\r\\n1.050577173353948846e+00\\r\\n4.414228910020872032e-01\\r\\n1.725518120529841326e+00\\r\\n1.654442384223312468e+00\\r\\n1.268938177123654087e+00\\r\\n-4.899999999999948841e-01\\r\\n\"], [0])\n"
     ]
    }
   ],
   "source": [
    "sample_tensor = next(iter(raw_train_ds.take(3)))\n",
    "tf.print(sample_tensor)"
   ]
  },
  {
   "cell_type": "code",
   "execution_count": 42,
   "metadata": {},
   "outputs": [
    {
     "name": "stdout",
     "output_type": "stream",
     "text": [
      "(1, 0)\n"
     ]
    },
    {
     "name": "stdout",
     "output_type": "stream",
     "text": [
      "Input: 1 Label: 0\n",
      "Input: 4 Label: 2\n",
      "Input: 9 Label: 0\n",
      "Input: 16 Label: 2\n",
      "Input: 25 Label: 0\n"
     ]
    }
   ],
   "source": [
    "data = tf.data.Dataset.from_tensor_slices((\n",
    "    [1, 2, 3, 4, 5],  # Inputs\n",
    "    [0, 1, 0, 1, 0]   # Labels\n",
    "))\n",
    "\n",
    "# Define a function to be applied to each element\n",
    "def square_input_and_double_label(input, label):\n",
    "    return input ** 2, label * 2\n",
    "\n",
    "tf.print(next(iter(data.take(1))))\n",
    "\n",
    "# Apply the function to each element using map\n",
    "mapped_data = data.map(square_input_and_double_label)\n",
    "\n",
    "# Iterate over the mapped dataset and print the elements\n",
    "for input, label in mapped_data:\n",
    "    print(\"Input:\", input.numpy(), \"Label:\", label.numpy())"
   ]
  },
  {
   "cell_type": "code",
   "execution_count": 38,
   "metadata": {},
   "outputs": [
    {
     "ename": "NameError",
     "evalue": "name 'y' is not defined",
     "output_type": "error",
     "traceback": [
      "\u001b[1;31m---------------------------------------------------------------------------\u001b[0m",
      "\u001b[1;31mNameError\u001b[0m                                 Traceback (most recent call last)",
      "Cell \u001b[1;32mIn[38], line 1\u001b[0m\n\u001b[1;32m----> 1\u001b[0m train_ds \u001b[38;5;241m=\u001b[39m raw_train_ds\u001b[38;5;241m.\u001b[39mmap(\u001b[38;5;28;01mlambda\u001b[39;00m x, y: x\u001b[38;5;241m+\u001b[39m\u001b[38;5;124m\"\u001b[39m\u001b[38;5;124m \u001b[39m\u001b[38;5;124m\"\u001b[39m, \u001b[43my\u001b[49m)\n",
      "\u001b[1;31mNameError\u001b[0m: name 'y' is not defined"
     ]
    }
   ],
   "source": [
    "train_ds = raw_train_ds.map(lambda x, y: x+\" \", y)"
   ]
  },
  {
   "cell_type": "code",
   "execution_count": 52,
   "metadata": {},
   "outputs": [
    {
     "name": "stdout",
     "output_type": "stream",
     "text": [
      "tf.Tensor([b'2.468199999999999932e+02\\r\\n4.076953004826153304e+00\\r\\n4.230390831640757021e+00\\r\\n6.128137899371310482e+00\\r\\n6.418605256102974721e+00\\r\\n6.951015349391700404e+00\\r\\n1.124624176163478495e+01\\r\\n1.363869071205575523e+01\\r\\n2.413495271064728342e+01\\r\\n9.418018358123454448e+01\\r\\n-5.228844472019141421e+01\\r\\n-2.052753613397645793e+01\\r\\n-1.052968665468512910e+01\\r\\n-1.096512986027983416e+01\\r\\n-8.077515282138257646e+00\\r\\n-6.128840874615205436e+00\\r\\n-1.351491791797060316e+01\\r\\n-6.495745240019210165e+00\\r\\n-5.702615189806424567e+00\\r\\n-5.454700283618072021e+00\\r\\n-5.125764212056081348e+00\\r\\n-5.563387904674485185e+00\\r\\n-4.401569639683359014e+00\\r\\n-3.464911210530718044e+00\\r\\n-3.675017261435628679e+00\\r\\n1.140000000000000568e+00\\r\\n-5.506163007956960342e+00\\r\\n-5.330950705496067421e+00\\r\\n-3.258412080441532055e+01\\r\\n-2.243727200813046885e+00\\r\\n-2.636555279808589614e+00\\r\\n-2.588230838885932972e+00\\r\\n-3.907843771256422016e+00\\r\\n-2.485071987612553990e+00\\r\\n-1.266895283360209845e+00\\r\\n-8.657973521321322252e+00\\r\\n-5.986015134601394116e+00\\r\\n-8.880171382041787354e+00\\r\\n3.344058429356620010e-01\\r\\n-1.969375227408132645e+00\\r\\n-1.559235787943912044e+00\\r\\n-3.005330862577395123e+00\\r\\n-2.528771458805048056e+00\\r\\n-1.503292556755880582e+00\\r\\n-2.348837547502117040e+00\\r\\n-1.054200953455171508e+00\\r\\n2.747491425539056120e+00\\r\\n-2.400349169337408028e+01\\r\\n-7.232118874883636472e+00\\r\\n-5.792912109424113609e+00\\r\\n-7.299999999999997158e+00\\r\\n'], shape=(1,), dtype=string)\n",
      "[246.82,\n",
      " 4.07695293,\n",
      " 4.23039103,\n",
      " 6.12813807,\n",
      " 6.41860533,\n",
      " 6.95101547,\n",
      " 11.2462416,\n",
      " 13.6386909,\n",
      " 24.1349525,\n",
      " 94.1801834,\n",
      " -52.2884445,\n",
      " -20.5275364,\n",
      " -10.5296869,\n",
      " -10.9651299,\n",
      " -8.0775156,\n",
      " -6.12884092,\n",
      " -13.5149183,\n",
      " -6.49574518,\n",
      " -5.70261526,\n",
      " -5.45470047,\n",
      " -5.12576437,\n",
      " -5.56338787,\n",
      " -4.40157,\n",
      " -3.46491122,\n",
      " -3.67501736,\n",
      " 1.14,\n",
      " -5.50616312,\n",
      " -5.33095074,\n",
      " -32.5841217,\n",
      " -2.24372721,\n",
      " -2.63655519,\n",
      " -2.58823085,\n",
      " -3.90784383,\n",
      " -2.4850719,\n",
      " -1.26689529,\n",
      " -8.65797329,\n",
      " -5.98601532,\n",
      " -8.88017178,\n",
      " 0.334405839,\n",
      " -1.96937525,\n",
      " -1.55923581,\n",
      " -3.0053308,\n",
      " -2.5287714,\n",
      " -1.50329256,\n",
      " -2.34883761,\n",
      " -1.05420101,\n",
      " 2.74749136,\n",
      " -24.0034924,\n",
      " -7.23211908,\n",
      " -5.79291201,\n",
      " -7.3]\n"
     ]
    }
   ],
   "source": [
    "def parse_and_convert_to_float(key, text):\n",
    "  # Convert integer tensor to string tensor\n",
    "  values = tf.strings.as_string(tf.convert_to_tensor(text))\n",
    "  # Remove '\\r\\n' characters and convert to float\n",
    "  values = tf.strings.split(values, '\\r\\n')  # Remove last empty entry\n",
    "  result = []\n",
    "  values = tfds.as_numpy(values)\n",
    "  for i in range(len(values[0])-1):\n",
    "    result.append(tf.strings.to_number(values[0][i]))\n",
    "\n",
    "  return key, result\n",
    "\n",
    "ragged_tensor = next(iter(raw_train_ds.take(3)))[0]\n",
    "print(ragged_tensor)\n",
    "tf.print(parse_and_convert_to_float(69, ragged_tensor)[1])"
   ]
  },
  {
   "cell_type": "code",
   "execution_count": 47,
   "metadata": {},
   "outputs": [
    {
     "name": "stdout",
     "output_type": "stream",
     "text": [
      "tf.Tensor([b'2.328300000000000125e+02\\r\\n-8.132455392144386508e+00\\r\\n-8.529249128213102438e+00\\r\\n-8.991986092584575374e+00\\r\\n-1.036056404563815647e+01\\r\\n-1.183845692054500987e+01\\r\\n-1.480890852808203384e+01\\r\\n-1.818228260318370815e+01\\r\\n-3.150988380785961596e+01\\r\\n-1.176951685552911329e+02\\r\\n6.288015495046594339e+01\\r\\n2.460086065106737863e+01\\r\\n1.499162942920164099e+01\\r\\n1.044980991345752130e+01\\r\\n9.032975883984873278e+00\\r\\n8.134380702653707829e+00\\r\\n3.839356270914251468e-03\\r\\n4.769303779217251460e+00\\r\\n7.126365189919115828e+00\\r\\n-3.566987088820996021e+00\\r\\n9.914183272437195882e-01\\r\\n1.525949829684074111e+00\\r\\n2.387270129950643138e+00\\r\\n1.131350482358687071e+00\\r\\n7.755377670418359681e-01\\r\\n-4.080000000000005400e+00\\r\\n2.722087755117874153e+00\\r\\n1.756181814816499820e+00\\r\\n-1.743214171969386683e+01\\r\\n3.108261364881757416e+00\\r\\n3.344845049534050929e+00\\r\\n2.378132733933830067e+00\\r\\n1.803419093010597329e+00\\r\\n3.809224106384533570e+00\\r\\n7.170292934352319847e+00\\r\\n-6.979652011729353234e+00\\r\\n-1.269692510475577407e+00\\r\\n4.029292941891737811e-01\\r\\n-1.035484382854558127e+00\\r\\n4.961025906382054984e-02\\r\\n4.435816727562738038e-01\\r\\n3.500139733476288484e-01\\r\\n3.367116532917577842e-01\\r\\n4.104253676009879115e-01\\r\\n-7.028581079918351904e+00\\r\\n-7.362717703793544288e-01\\r\\n-1.427061507466899748e+00\\r\\n5.286817350051578934e+00\\r\\n1.801437518060584164e+00\\r\\n1.290008811970075442e+00\\r\\n8.499999999999943157e-01\\r\\n'], shape=(1,), dtype=string)\n"
     ]
    },
    {
     "ename": "TypeError",
     "evalue": "Cannot convert 54 to EagerTensor of dtype string",
     "output_type": "error",
     "traceback": [
      "\u001b[1;31m---------------------------------------------------------------------------\u001b[0m",
      "\u001b[1;31mTypeError\u001b[0m                                 Traceback (most recent call last)",
      "Cell \u001b[1;32mIn[47], line 3\u001b[0m\n\u001b[0;32m      1\u001b[0m ragged_tensor \u001b[38;5;241m=\u001b[39m \u001b[38;5;28mnext\u001b[39m(\u001b[38;5;28miter\u001b[39m(raw_train_ds\u001b[38;5;241m.\u001b[39mtake(\u001b[38;5;241m3\u001b[39m)))[\u001b[38;5;241m0\u001b[39m]\n\u001b[0;32m      2\u001b[0m \u001b[38;5;28mprint\u001b[39m(ragged_tensor)\n\u001b[1;32m----> 3\u001b[0m tf\u001b[38;5;241m.\u001b[39mprint(\u001b[43mparse_and_convert_to_float\u001b[49m\u001b[43m(\u001b[49m\u001b[38;5;241;43m69\u001b[39;49m\u001b[43m,\u001b[49m\u001b[43m \u001b[49m\u001b[43mragged_tensor\u001b[49m\u001b[43m)\u001b[49m[\u001b[38;5;241m1\u001b[39m])\n",
      "Cell \u001b[1;32mIn[46], line 9\u001b[0m, in \u001b[0;36mparse_and_convert_to_float\u001b[1;34m(text, label)\u001b[0m\n\u001b[0;32m      7\u001b[0m values \u001b[38;5;241m=\u001b[39m tfds\u001b[38;5;241m.\u001b[39mas_numpy(values)\n\u001b[0;32m      8\u001b[0m \u001b[38;5;28;01mfor\u001b[39;00m i \u001b[38;5;129;01min\u001b[39;00m \u001b[38;5;28mrange\u001b[39m(\u001b[38;5;28mlen\u001b[39m(values[\u001b[38;5;241m0\u001b[39m])\u001b[38;5;241m-\u001b[39m\u001b[38;5;241m1\u001b[39m):\n\u001b[1;32m----> 9\u001b[0m   result\u001b[38;5;241m.\u001b[39mappend(\u001b[43mtf\u001b[49m\u001b[38;5;241;43m.\u001b[39;49m\u001b[43mstrings\u001b[49m\u001b[38;5;241;43m.\u001b[39;49m\u001b[43mto_number\u001b[49m\u001b[43m(\u001b[49m\u001b[43mvalues\u001b[49m\u001b[43m[\u001b[49m\u001b[38;5;241;43m0\u001b[39;49m\u001b[43m]\u001b[49m\u001b[43m[\u001b[49m\u001b[43mi\u001b[49m\u001b[43m]\u001b[49m\u001b[43m)\u001b[49m)\n\u001b[0;32m     11\u001b[0m \u001b[38;5;28;01mreturn\u001b[39;00m tf\u001b[38;5;241m.\u001b[39mconvert_to_tensor(result, label)\n",
      "File \u001b[1;32m~\\AppData\\Local\\Packages\\PythonSoftwareFoundation.Python.3.11_qbz5n2kfra8p0\\LocalCache\\local-packages\\Python311\\site-packages\\tensorflow\\python\\util\\traceback_utils.py:153\u001b[0m, in \u001b[0;36mfilter_traceback.<locals>.error_handler\u001b[1;34m(*args, **kwargs)\u001b[0m\n\u001b[0;32m    151\u001b[0m \u001b[38;5;28;01mexcept\u001b[39;00m \u001b[38;5;167;01mException\u001b[39;00m \u001b[38;5;28;01mas\u001b[39;00m e:\n\u001b[0;32m    152\u001b[0m   filtered_tb \u001b[38;5;241m=\u001b[39m _process_traceback_frames(e\u001b[38;5;241m.\u001b[39m__traceback__)\n\u001b[1;32m--> 153\u001b[0m   \u001b[38;5;28;01mraise\u001b[39;00m e\u001b[38;5;241m.\u001b[39mwith_traceback(filtered_tb) \u001b[38;5;28;01mfrom\u001b[39;00m \u001b[38;5;28;01mNone\u001b[39;00m\n\u001b[0;32m    154\u001b[0m \u001b[38;5;28;01mfinally\u001b[39;00m:\n\u001b[0;32m    155\u001b[0m   \u001b[38;5;28;01mdel\u001b[39;00m filtered_tb\n",
      "File \u001b[1;32m~\\AppData\\Local\\Packages\\PythonSoftwareFoundation.Python.3.11_qbz5n2kfra8p0\\LocalCache\\local-packages\\Python311\\site-packages\\tensorflow\\python\\ops\\gen_parsing_ops.py:2307\u001b[0m, in \u001b[0;36mstring_to_number\u001b[1;34m(string_tensor, out_type, name)\u001b[0m\n\u001b[0;32m   2305\u001b[0m \u001b[38;5;28;01mif\u001b[39;00m tld\u001b[38;5;241m.\u001b[39mis_eager:\n\u001b[0;32m   2306\u001b[0m   \u001b[38;5;28;01mtry\u001b[39;00m:\n\u001b[1;32m-> 2307\u001b[0m     _result \u001b[38;5;241m=\u001b[39m pywrap_tfe\u001b[38;5;241m.\u001b[39mTFE_Py_FastPathExecute(\n\u001b[0;32m   2308\u001b[0m       _ctx, \u001b[38;5;124m\"\u001b[39m\u001b[38;5;124mStringToNumber\u001b[39m\u001b[38;5;124m\"\u001b[39m, name, string_tensor, \u001b[38;5;124m\"\u001b[39m\u001b[38;5;124mout_type\u001b[39m\u001b[38;5;124m\"\u001b[39m, out_type)\n\u001b[0;32m   2309\u001b[0m     \u001b[38;5;28;01mreturn\u001b[39;00m _result\n\u001b[0;32m   2310\u001b[0m   \u001b[38;5;28;01mexcept\u001b[39;00m _core\u001b[38;5;241m.\u001b[39m_NotOkStatusException \u001b[38;5;28;01mas\u001b[39;00m e:\n",
      "\u001b[1;31mTypeError\u001b[0m: Cannot convert 54 to EagerTensor of dtype string"
     ]
    }
   ],
   "source": [
    "\n",
    "\"\"\"train_ds = raw_train_ds.map(parse_and_convert_to_float)\n",
    "tf.print(next(iter(train_ds.take(1))))\"\"\""
   ]
  },
  {
   "cell_type": "code",
   "execution_count": null,
   "metadata": {},
   "outputs": [],
   "source": []
  },
  {
   "cell_type": "code",
   "execution_count": null,
   "metadata": {},
   "outputs": [],
   "source": []
  }
 ],
 "metadata": {
  "kernelspec": {
   "display_name": "Python 3",
   "language": "python",
   "name": "python3"
  },
  "language_info": {
   "codemirror_mode": {
    "name": "ipython",
    "version": 3
   },
   "file_extension": ".py",
   "mimetype": "text/x-python",
   "name": "python",
   "nbconvert_exporter": "python",
   "pygments_lexer": "ipython3",
   "version": "3.11.9"
  }
 },
 "nbformat": 4,
 "nbformat_minor": 2
}
