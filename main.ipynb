{
 "cells": [
  {
   "cell_type": "code",
   "execution_count": null,
   "metadata": {},
   "outputs": [],
   "source": []
  },
  {
   "cell_type": "code",
   "execution_count": 1,
   "metadata": {},
   "outputs": [
    {
     "ename": "ModuleNotFoundError",
     "evalue": "No module named 'serial'",
     "output_type": "error",
     "traceback": [
      "\u001b[1;31m---------------------------------------------------------------------------\u001b[0m",
      "\u001b[1;31mModuleNotFoundError\u001b[0m                       Traceback (most recent call last)",
      "Cell \u001b[1;32mIn[1], line 1\u001b[0m\n\u001b[1;32m----> 1\u001b[0m \u001b[38;5;28;01mimport\u001b[39;00m \u001b[38;5;21;01mserial\u001b[39;00m\n\u001b[0;32m      2\u001b[0m \u001b[38;5;28;01mimport\u001b[39;00m \u001b[38;5;21;01mnumpy\u001b[39;00m \u001b[38;5;28;01mas\u001b[39;00m \u001b[38;5;21;01mnp\u001b[39;00m\n\u001b[0;32m      3\u001b[0m \u001b[38;5;28;01mimport\u001b[39;00m \u001b[38;5;21;01mtensorflow\u001b[39;00m \u001b[38;5;28;01mas\u001b[39;00m \u001b[38;5;21;01mtf\u001b[39;00m\n",
      "\u001b[1;31mModuleNotFoundError\u001b[0m: No module named 'serial'"
     ]
    }
   ],
   "source": [
    "import serial\n",
    "import numpy as np\n",
    "import tensorflow as tf"
   ]
  },
  {
   "cell_type": "code",
   "execution_count": 1,
   "metadata": {},
   "outputs": [
    {
     "name": "stdout",
     "output_type": "stream",
     "text": [
      "No GPU found. Training will be carried out on CPU, which might be slower.\n",
      "\n",
      "If running on Google Colab, you can request a GPU runtime by clicking\n",
      "`Runtime/Change runtime type` in the top bar menu, then selecting 'GPU'\n",
      "under 'Hardware accelerator'.\n"
     ]
    }
   ],
   "source": [
    "import torch\n",
    "\n",
    "if torch.cuda.is_available():\n",
    "    print('CUDA-enabled GPU found. Training should be faster.')\n",
    "else:\n",
    "    print('No GPU found. Training will be carried out on CPU, which might be '\n",
    "          'slower.\\n\\nIf running on Google Colab, you can request a GPU runtime by'\n",
    "          ' clicking\\n`Runtime/Change runtime type` in the top bar menu, then '\n",
    "          'selecting \\'GPU\\'\\nunder \\'Hardware accelerator\\'.')\n"
   ]
  },
  {
   "cell_type": "code",
   "execution_count": 4,
   "metadata": {},
   "outputs": [],
   "source": [
    "# import general modules\n",
    "import os\n",
    "import copy\n",
    "\n",
    "\n",
    "import torch\n",
    "import numpy as np\n",
    "import pandas as pd\n",
    "import matplotlib.pyplot as plt\n",
    "\n",
    "%matplotlib inline"
   ]
  },
  {
   "cell_type": "code",
   "execution_count": 5,
   "metadata": {},
   "outputs": [],
   "source": [
    "device = 'cuda' if torch.cuda.is_available() else 'cpu'"
   ]
  },
  {
   "cell_type": "code",
   "execution_count": 6,
   "metadata": {},
   "outputs": [],
   "source": [
    "a = np.array([5, 1, 5, 1, 5, 1])"
   ]
  },
  {
   "cell_type": "code",
   "execution_count": 7,
   "metadata": {},
   "outputs": [],
   "source": [
    "fo=np.fft.fft(a)"
   ]
  },
  {
   "cell_type": "code",
   "execution_count": 8,
   "metadata": {},
   "outputs": [
    {
     "data": {
      "text/plain": [
       "array([1.8000000e+01+0.j, 4.4408921e-16+0.j, 0.0000000e+00+0.j,\n",
       "       1.2000000e+01+0.j, 0.0000000e+00+0.j, 8.8817842e-16+0.j])"
      ]
     },
     "execution_count": 8,
     "metadata": {},
     "output_type": "execute_result"
    }
   ],
   "source": [
    "fo"
   ]
  },
  {
   "cell_type": "code",
   "execution_count": 10,
   "metadata": {},
   "outputs": [],
   "source": [
    "a = np.array([5, 1, 5, 1, 5, 1])\n",
    "b = np.array([8,1,4,6,2,3])\n",
    "c = np.array([4,6,7,2,3,5])\n",
    "d = np.array([8,6,3,7,3,4])"
   ]
  },
  {
   "cell_type": "code",
   "execution_count": 12,
   "metadata": {},
   "outputs": [],
   "source": [
    "mega = [a, b, c, d]\n",
    "j = []"
   ]
  },
  {
   "cell_type": "code",
   "execution_count": 13,
   "metadata": {},
   "outputs": [],
   "source": [
    "for i in mega:\n",
    "    j.append(np.fft.fft(i))"
   ]
  },
  {
   "cell_type": "code",
   "execution_count": 17,
   "metadata": {},
   "outputs": [],
   "source": [
    "j\n",
    "t=\"\""
   ]
  },
  {
   "cell_type": "code",
   "execution_count": 19,
   "metadata": {},
   "outputs": [
    {
     "name": "stdout",
     "output_type": "stream",
     "text": [
      "(18+0j), (4.440892098500626e-16+0j), 0j, (12+0j), 0j, (8.881784197001252e-16+0j), (24+0j), (1+0j), (9+3.4641016151377544j), (4+0j), (9-3.4641016151377544j), (1.0000000000000002+0j), (27+0j), (2.5-4.330127018922193j), (-4.5+2.598076211353316j), (0.9999999999999999+4.440892098500626e-16j), (-4.5-2.598076211353316j), (2.5+4.330127018922193j), (31+0j), (3-1.7320508075688774j), (7-1.7320508075688772j), (-2.9999999999999996+3.3306690738754696e-16j), (7+1.7320508075688772j), (2.9999999999999996+1.7320508075688772j), (18+0j), (4.440892098500626e-16+0j), 0j, (12+0j), 0j, (8.881784197001252e-16+0j), \n",
      "(24+0j), (1+0j), (9+3.4641016151377544j), (4+0j), (9-3.4641016151377544j), (1.0000000000000002+0j), \n",
      "(27+0j), (2.5-4.330127018922193j), (-4.5+2.598076211353316j), (0.9999999999999999+4.440892098500626e-16j), (-4.5-2.598076211353316j), (2.5+4.330127018922193j), \n",
      "(31+0j), (3-1.7320508075688774j), (7-1.7320508075688772j), (-2.9999999999999996+3.3306690738754696e-16j), (7+1.7320508075688772j), (2.9999999999999996+1.7320508075688772j), \n"
     ]
    }
   ],
   "source": [
    "for p in j:\n",
    "    for k in p:\n",
    "        t+=str(k)+\", \"\n",
    "    print(t)\n",
    "    t=\"\""
   ]
  },
  {
   "cell_type": "code",
   "execution_count": 4,
   "metadata": {},
   "outputs": [],
   "source": [
    "import serial"
   ]
  },
  {
   "cell_type": "code",
   "execution_count": 5,
   "metadata": {},
   "outputs": [],
   "source": [
    "arduino = serial.Serial('COM5', 9600)"
   ]
  },
  {
   "cell_type": "code",
   "execution_count": 6,
   "metadata": {},
   "outputs": [
    {
     "ename": "",
     "evalue": "",
     "output_type": "error",
     "traceback": [
      "\u001b[1;31mThe Kernel crashed while executing code in the current cell or a previous cell. \n",
      "\u001b[1;31mPlease review the code in the cell(s) to identify a possible cause of the failure. \n",
      "\u001b[1;31mClick <a href='https://aka.ms/vscodeJupyterKernelCrash'>here</a> for more info. \n",
      "\u001b[1;31mView Jupyter <a href='command:jupyter.viewOutput'>log</a> for further details."
     ]
    }
   ],
   "source": [
    "while True:\n",
    "    while (arduino.inWaiting()==0):\n",
    "        pass\n",
    "    arduinoString = arduino.readline()\n",
    "    print(arduinoString)\n",
    "    "
   ]
  },
  {
   "cell_type": "code",
   "execution_count": null,
   "metadata": {},
   "outputs": [],
   "source": []
  }
 ],
 "metadata": {
  "kernelspec": {
   "display_name": "Python 3",
   "language": "python",
   "name": "python3"
  },
  "language_info": {
   "codemirror_mode": {
    "name": "ipython",
    "version": 3
   },
   "file_extension": ".py",
   "mimetype": "text/x-python",
   "name": "python",
   "nbconvert_exporter": "python",
   "pygments_lexer": "ipython3",
   "version": "3.11.9"
  }
 },
 "nbformat": 4,
 "nbformat_minor": 2
}
